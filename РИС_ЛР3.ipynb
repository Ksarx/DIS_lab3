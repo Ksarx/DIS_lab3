{
  "cells": [
    {
      "cell_type": "markdown",
      "metadata": {
        "id": "6p_hzFUWaINP"
      },
      "source": [
        "# Лабораторная работа №3 Разработка ДКА"
      ]
    },
    {
      "cell_type": "markdown",
      "metadata": {
        "id": "rhvzCKQFJl7N"
      },
      "source": [
        "**Цель:**\n",
        "Научиться разрабатывать решать задачи с помощью ДКА\n",
        "\n",
        "**Смысл:**\n",
        "С помощью ДКА можно .реализовывать конфигурируемые системы\n",
        "\n",
        "**Задача.**\n",
        "В зданиие два лифта. На каждом этаже, кроме вернего и первого, есть две кнопки\n",
        "вызова лифта:\n",
        "\n",
        "- вызвать лифт для подъема на верхний этаж\n",
        "- вызвать лифт для спуска на нижний этаж.\n",
        "На первом соотвественно есть только одна кнопка для вызова лифта для подъема\n",
        "на верхний этаж, а на последнем, соотвественно, только одна кнопка для вызова\n",
        "лифта для спуска на нижний этаж. Лифт останавливается на этаже и открывает\n",
        "двери, только если на этом этаже нажата кнопка вызова, совпадающая с\n",
        "движением лифта. Каждый лифт обслуживает оба направления движения.\n",
        "\n",
        "\n",
        "Интерфейс лифта содержит команлы:\n",
        "- проехать этаж вверх\n",
        "- открыть двери\n",
        "- закртыть двери\n",
        "- проехать этаж вниз\n",
        "\n",
        "Лифт может двигаться с закртыми дверьми, при поптыке вполнить команду\n",
        "проехать этаж вверх на посленем этаже и выполнить команду проехать этаж вниз\n",
        "на первом этаже, команда выбрасывает исключение.\n",
        "Написать детерминированный конечный автомат для управления движения\n",
        "лифтами. Стараемся оптимизировать время ожидания пассажиров.\n",
        "\n",
        "*На вход программа получает* - этажность здания, этажи, на котором располагаются\n",
        "лифты, список пар (номер этажа вызова, номер этажа. кужа нужно попасть).\n",
        "\n",
        "*На выходе* - последовательность команд каждого из лифтов, для каждого вызова\n",
        "необходимо вывести количество перемещений между этажами, которые совершили\n",
        "лифты до отытия дверей на этаже вызова."
      ]
    },
    {
      "cell_type": "code",
      "execution_count": 28,
      "metadata": {
        "id": "zEIvPssffkFK"
      },
      "outputs": [],
      "source": [
        "floors = 20\n",
        "\n",
        "class Elevator:\n",
        "    def __init__(self, id, cur_floor):\n",
        "        self.id = id\n",
        "        self.current_floor = cur_floor\n",
        "        self.state = \"waiting\"\n",
        "        self.num_moves = 0\n",
        "        self.call_queue = []\n",
        "\n",
        "    def open_doors(self):\n",
        "        self.state = \"waiting\"\n",
        "\n",
        "    def passenger_entered(self, floor):\n",
        "        self.call_queue.append(floor)\n",
        "\n",
        "    def passenger_got_out(self):\n",
        "        self.call_queue.pop(0)\n",
        "\n",
        "    def move_up(self):\n",
        "        self.current_floor += 1\n",
        "        self.num_moves += 1\n",
        "        if self.current_floor == floors:\n",
        "            self.state = \"waiting\"\n",
        "        else:\n",
        "            self.state = \"movingUp\"\n",
        "\n",
        "    def move_down(self):\n",
        "        self.current_floor -= 1\n",
        "        self.num_moves += 1\n",
        "        if self.current_floor == 1:\n",
        "            self.state = \"waiting\"\n",
        "        else:\n",
        "            self.state = \"movingDown\"\n",
        "\n",
        "    def process_call(self, floor):\n",
        "        if self.state == \"waiting\":\n",
        "            if floor > self.current_floor:\n",
        "                self.move_up()\n",
        "            elif floor < self.current_floor:\n",
        "                self.move_down()\n",
        "            else:\n",
        "                self.open_doors()\n",
        "        elif self.state == \"movingUp\":\n",
        "            if floor > self.current_floor:\n",
        "                self.move_up()\n",
        "            elif floor == self.current_floor:\n",
        "                self.open_doors()\n",
        "            else:\n",
        "                self.move_down()\n",
        "        elif self.state == \"movingDown\":\n",
        "            if floor < self.current_floor:\n",
        "                self.move_down()\n",
        "            elif floor == self.current_floor:\n",
        "                self.open_doors()\n",
        "            else:\n",
        "                self.move_up()\n",
        "    \n"
      ]
    },
    {
      "cell_type": "code",
      "execution_count": 36,
      "metadata": {
        "colab": {
          "base_uri": "https://localhost:8080/"
        },
        "id": "mDMShOG-fIS6",
        "outputId": "da3def76-7460-4394-cea3-50d4f2a6ed77"
      },
      "outputs": [
        {
          "name": "stdout",
          "output_type": "stream",
          "text": [
            "Лифт #1 забрал пассажира с этажа 4 и доставил на этаж 6, количество действий 5, сейчас лифт на этаже 6\n",
            "Лифт #1 забрал пассажира с этажа 5 и доставил на этаж 3, количество действий 8, сейчас лифт на этаже 3\n",
            "Лифт #2 забрал пассажира с этажа 10 и доставил на этаж 1, количество действий 11, сейчас лифт на этаже 1\n",
            "Лифт #1 забрал пассажира с этажа 6 и доставил на этаж 3, количество действий 14, сейчас лифт на этаже 3\n",
            "Лифт #1 забрал пассажира с этажа 9 и доставил на этаж 1, количество действий 28, сейчас лифт на этаже 1\n",
            "Лифт #1 забрал пассажира с этажа 5 и доставил на этаж 4, количество действий 33, сейчас лифт на этаже 4\n",
            "Лифт #2 забрал пассажира с этажа 2 и доставил на этаж 9, количество действий 19, сейчас лифт на этаже 9\n",
            "Лифт #2 забрал пассажира с этажа 20 и доставил на этаж 1, количество действий 49, сейчас лифт на этаже 1\n",
            "Лифт #1 забрал пассажира с этажа 15 и доставил на этаж 20, количество действий 49, сейчас лифт на этаже 20\n",
            "Лифт #1 забрал пассажира с этажа 12 и доставил на этаж 4, количество действий 65, сейчас лифт на этаже 4\n",
            "Лифт #1 забрал пассажира с этажа 13 и доставил на этаж 6, количество действий 81, сейчас лифт на этаже 6\n",
            "Лифт #1 забрал пассажира с этажа 14 и доставил на этаж 17, количество действий 92, сейчас лифт на этаже 17\n"
          ]
        }
      ],
      "source": [
        "building = [\n",
        "    Elevator(1, 1),\n",
        "    Elevator(2, floors),\n",
        "]\n",
        "\n",
        "call_queue = [(4, 6), (5, 3), (10, 1), (6, 3), (9, 1), (5, 4), (2, 9), (20, 1), (15, 20), (12, 4), (13, 6), (14, 17)]\n",
        "call_queue_c = call_queue.copy()\n",
        "\n",
        "for call in call_queue_c:\n",
        "    if call not in call_queue:\n",
        "        continue\n",
        "    min_distance = float(\"inf\")\n",
        "    closest_elevator = None\n",
        "    if call[1] - call[0] == 0 or call[0] < 0 or call[1] < 0 or call[0] > floors or call[1] > floors:\n",
        "        call_queue.remove(call)\n",
        "\n",
        "    for elevator in building:\n",
        "        distance = abs(elevator.current_floor - call[0])\n",
        "        if distance < min_distance:\n",
        "            min_distance = distance\n",
        "            closest_elevator = elevator\n",
        "\n",
        "    while closest_elevator.current_floor != call[0]:\n",
        "        closest_elevator.process_call(call[0])\n",
        "        call_queue_copy = call_queue.copy()\n",
        "        for other_call in call_queue_copy:\n",
        "            if other_call == call:\n",
        "                continue\n",
        "            diff = other_call[1] - other_call[0]\n",
        "            direction = \"movingUp\" if diff > 0 else \"movingDown\"\n",
        "            if other_call[0] == closest_elevator.current_floor and direction == closest_elevator.state:\n",
        "                closest_elevator.passenger_entered(other_call[1])\n",
        "                call_queue.remove(other_call)\n",
        "            if closest_elevator.current_floor in closest_elevator.call_queue:\n",
        "                closest_elevator.call_queue.remove(closest_elevator.current_floor)\n",
        "\n",
        "    closest_elevator.passenger_entered(call[1])\n",
        "    if call in call_queue:\n",
        "        call_queue.remove(call)\n",
        "\n",
        "    while len(closest_elevator.call_queue) != 0:\n",
        "        passenger_floor = closest_elevator.call_queue.pop(0)\n",
        "\n",
        "        while passenger_floor != closest_elevator.current_floor:\n",
        "            closest_elevator.process_call(passenger_floor)\n",
        "            call_queue_copy = call_queue.copy()\n",
        "            for other_call in call_queue_copy:\n",
        "                if other_call == call:\n",
        "                    continue\n",
        "                diff = other_call[1] - other_call[0]\n",
        "                direction = None\n",
        "                if diff > 0:\n",
        "                    direction = \"movingUp\"\n",
        "                else:\n",
        "                    direction = \"movingDown\"\n",
        "                if other_call[0] == closest_elevator.current_floor and direction == closest_elevator.state:\n",
        "                    closest_elevator.passenger_entered(other_call[1])\n",
        "                    call_queue.remove(other_call)\n",
        "\n",
        "            if closest_elevator.current_floor in closest_elevator.call_queue:\n",
        "                closest_elevator.call_queue.remove(closest_elevator.current_floor)\n",
        "                print(\n",
        "                    f\"Лифт #{closest_elevator.id} забрал пассажира по пути\"\n",
        "                    f\" и доставил на этаж {closest_elevator.current_floor}, количество действий {closest_elevator.num_moves}\")\n",
        "\n",
        "    print(\n",
        "        f\"Лифт #{closest_elevator.id} забрал пассажира с этажа {call[0]}\"\n",
        "        f\" и доставил на этаж {call[1]}, количество действий {closest_elevator.num_moves}, \"\n",
        "        f\"сейчас лифт на этаже {closest_elevator.current_floor}\")\n"
      ]
    }
  ],
  "metadata": {
    "colab": {
      "provenance": []
    },
    "kernelspec": {
      "display_name": "Python 3",
      "language": "python",
      "name": "python3"
    },
    "language_info": {
      "name": "python",
      "version": "3.8.10 (default, Mar 15 2022, 12:22:08) \n[GCC 9.4.0]"
    },
    "vscode": {
      "interpreter": {
        "hash": "916dbcbb3f70747c44a77c7bcd40155683ae19c65e1c03b4aa3499c5328201f1"
      }
    }
  },
  "nbformat": 4,
  "nbformat_minor": 0
}
